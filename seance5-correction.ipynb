{
 "cells": [
  {
   "cell_type": "markdown",
   "metadata": {},
   "source": [
    "Ex1:\n",
    "    \n",
    "1. Ecrire une fonction qui prend en entrée une fonction f et des réels a et h et donne en sortie le taux de variation (ou d'accroissement) de la fonction f entre le point d'abscisse a+h et a.\n",
    "2. Tester avec f(x)=3x^3+1x^2-5"
   ]
  },
  {
   "cell_type": "code",
   "execution_count": 6,
   "metadata": {},
   "outputs": [
    {
     "name": "stdout",
     "output_type": "stream",
     "text": [
      "284.0\n"
     ]
    },
    {
     "data": {
      "text/plain": [
       "284.0"
      ]
     },
     "execution_count": 6,
     "metadata": {},
     "output_type": "execute_result"
    }
   ],
   "source": [
    "#Exercice 1\n",
    "\n",
    "def taux(f, a,  h):\n",
    "    return (f(a+h) - f(a)) / h\n",
    "\n",
    "f = lambda x : 3*x**3 + x**2 -5\n",
    "print((f(5+1)-f(5))/1)\n",
    "taux(f, 5, 1)"
   ]
  },
  {
   "cell_type": "markdown",
   "metadata": {},
   "source": [
    "Ex2:\n",
    "1. Ecrire une fonction qui calcule la liste des coefficients directeurs pour une fonction f définit sur I=[a;b] avec un pas \"p\"\n",
    "2. Tester avec f(x)=(1+x)/(x-4) définit sur I=[0,1] avec un pas de 0.01"
   ]
  },
  {
   "cell_type": "code",
   "execution_count": 69,
   "metadata": {},
   "outputs": [
    {
     "name": "stdout",
     "output_type": "stream",
     "text": [
      "[-0.3132832080200487, -0.31485749549753916, -0.31644367935395046, -0.31804187975472686, -0.31965221838639035, -0.32127481847973316, -0.3229098048333101, -0.3245573038375693, -0.3262174434991383, -0.327890353465804, -0.3295761650517315, -0.33127501126335446, -0.332987026825432, -0.33471234820795503, -0.3364511136531856, -0.3382034632034625, -0.3399695387293289, -0.3417494839582813, -0.3435434445039909, -0.3453515678961183, -0.3471740036106119, -0.34901090310061056, -0.35086241982794086, -0.35272870929510813, -0.35460992907800915, -0.3565062388591833, -0.3584178004616412, -0.3603447778834812, -0.3622873373329838, -0.36424564726451614, -0.3662198784150028, -0.3682102038411683, -0.37021679895746784, -0.37223984157472856, -0.3742795119395126, -0.3763359927743515, -0.378409469318558, -0.3805001293700483, -0.3826081633277689, -0.38473376423515115, -0.38687712782420336, -0.3890384525606527, -0.39121793968984186, -0.393415793283608, -0.3956322202880169, -0.39786743057213525, -0.4001216369776406, -0.4023950553695643, -0.4046879046879004, -0.4070004070004074, -0.40933278755628244, -0.41168527484109485, -0.41405810063268045, -0.4164515000582958, -0.41886571165284936, -0.4213009774182708, -0.42375754288426215, -0.426235657170132, -0.4287355730479725, -0.4312575470070745, -0.4338018393197973, -0.4363687141086703, -0.4389584394149604, -0.4415712872686217, -0.4442075337597662, -0.4468674591116273, -0.44955134775493955, -0.45225948840407204, -0.45499217413460524, -0.4577497024626842, -0.4605323754260038, -0.4633404996663981, -0.46617438651450627, -0.4690343520759366, -0.47192071731949614, -0.47483380816715215, -0.4777739555861249, -0.4807414956829348, -0.48373676979935887, -0.4867601246105968, -0.48981191222570164, -0.4928924902900089, -0.49600222208996403, -0.49914147666014763, -0.5023106288928991, -0.5055100596501827, -0.5087401558779958, -0.5120013107233534, -0.5152939236540477, -0.5186184005808503, -0.5219751539826789, -0.525364603034506, -0.5287871737383099, -0.5322432990568671, -0.5357334190506879, -0.5392579810181153, -0.5428174396386987, -0.5464122571197549, -0.5500429033464593, -0.5537098560354559]\n"
     ]
    }
   ],
   "source": [
    "#Exercice 2\n",
    "\n",
    "def coefficients(f, a, b, p):\n",
    "    coefs = []\n",
    "    while a<=b:\n",
    "        coef = (f(a+p)-f(a))/p\n",
    "        if(coef not in coefs):\n",
    "            coefs.append(coef)\n",
    "        a+=p\n",
    "    print(coefs)\n",
    "    \n",
    "f = lambda x : (1+x)/(x-4)\n",
    "\n",
    "coefficients(f, 0, 1, 0.01)"
   ]
  },
  {
   "cell_type": "markdown",
   "metadata": {},
   "source": [
    "Ex3:\n",
    "on considère une suite U définie par Un+1=Un+n+1 et de premier terme U0. Ecrire une fonction qui prend en entrée les valeurs de n et U0 et affiche la valeur de Un.\n",
    "1. De facon iterative\n",
    "2. Par recurence"
   ]
  },
  {
   "cell_type": "code",
   "execution_count": 37,
   "metadata": {},
   "outputs": [
    {
     "name": "stdout",
     "output_type": "stream",
     "text": [
      "2\n",
      "4\n",
      "7\n",
      "11\n",
      "16\n",
      "2\n",
      "4\n",
      "7\n",
      "11\n",
      "16\n"
     ]
    }
   ],
   "source": [
    "#Exercice 3\n",
    "\n",
    "def iterative(n, u):\n",
    "    for i in range(n):\n",
    "        u=u+i+1\n",
    "    return u\n",
    "\n",
    "def recurence(n, u):\n",
    "    if(n==0):\n",
    "        return u\n",
    "    else:\n",
    "        return recurence(n-1, u+n)\n"
   ]
  },
  {
   "cell_type": "markdown",
   "metadata": {},
   "source": [
    "Ex4:\n",
    "On pose Tn=n^2−(n−1)^2 ainsi que Sn=T1+T2+T3+...+Tn.\n",
    "1. Etant donné n, afficher la valeur de Sn."
   ]
  },
  {
   "cell_type": "code",
   "execution_count": 56,
   "metadata": {},
   "outputs": [
    {
     "name": "stdout",
     "output_type": "stream",
     "text": [
      "2\n"
     ]
    }
   ],
   "source": [
    "#Exercice 4\n",
    "\n",
    "T = lambda n : n**2 - (n-1)**2\n",
    "def S(n):\n",
    "    sum = 0\n",
    "    #changer le range de 1 à n+1 n>=1\n",
    "    for i in range(0, n+1):\n",
    "        sum += T(n)\n",
    "    print(sum)\n",
    "S(1)"
   ]
  },
  {
   "cell_type": "markdown",
   "metadata": {},
   "source": [
    "Ex5:\n",
    "Soit la suite définie par Un+1=0.5.Un et de premier terme U0. Plus la valeur de n augmente, plus les valeurs de Un se rapprochent de 0.\n",
    "\n",
    "Ecrire une fonction qui permet de déterminer pour un réel positif e donné, quel est le plus petit entier n tel que la valeur de Un soit inférieure à e.\n"
   ]
  },
  {
   "cell_type": "code",
   "execution_count": 63,
   "metadata": {},
   "outputs": [
    {
     "name": "stdout",
     "output_type": "stream",
     "text": [
      "0.05\n",
      "0.025\n",
      "1\n"
     ]
    }
   ],
   "source": [
    "#Exercice 5\n",
    "\n",
    "def plusPetitN(e, u):\n",
    "    n = 0\n",
    "    prec = u\n",
    "    while u > e:\n",
    "        prec = u\n",
    "        u*=0.5\n",
    "        n+=1\n",
    "    print(prec)\n",
    "    print(u)\n",
    "    return n\n",
    "\n",
    "print(plusPetitN(0.025, 0.05))"
   ]
  },
  {
   "cell_type": "markdown",
   "metadata": {},
   "source": [
    "Ex6: Constante K de Catalan : https://fr.wikipedia.org/wiki/Constante_de_Catalan\n",
    "Ecrire une fonction qui permet de retourner une valeur approchée de la constante K et en s’arrêtant dès que la valeur absolue de la différence entre deux somme successives devienne inférieure ou égale à une erreur epsilon donnée en paramètre.\n",
    "\n"
   ]
  },
  {
   "cell_type": "code",
   "execution_count": 90,
   "metadata": {},
   "outputs": [
    {
     "name": "stdout",
     "output_type": "stream",
     "text": [
      "0.9159655991752147\n"
     ]
    }
   ],
   "source": [
    "#Exercice 6\n",
    "\n",
    "def constanteK(epsilon):\n",
    "    f = lambda n : ((-1)**n)/(2*n+1)**2\n",
    "    \n",
    "    sum1 = f(0)\n",
    "    sum2 = f(0) + f(1)\n",
    "    diff = sum2 - sum1\n",
    "    i = 2\n",
    "    \n",
    "    while abs(diff) > epsilon:\n",
    "        sum1 = sum2\n",
    "        sum2 = sum2+f(i)\n",
    "        diff = sum2 - sum1\n",
    "        i+=1\n",
    "    \n",
    "    return sum2\n",
    "\n",
    "print(constanteK(0.00000001))"
   ]
  },
  {
   "cell_type": "markdown",
   "metadata": {},
   "source": [
    "Ex 7:\n",
    "Ecrivez une fonction permettant de calculer la limite à epsilon près de la suite définie par la relation de récurrence :\n",
    "\n",
    "U0 =2\n",
    "Un+1= Un + 2/Un  , n>0.\n",
    "\n",
    "On arrête d’itérer quand l’intervalle entre 2 termes consécutifs devient strictement inférieur à epsilon."
   ]
  },
  {
   "cell_type": "code",
   "execution_count": 96,
   "metadata": {},
   "outputs": [
    {
     "name": "stdout",
     "output_type": "stream",
     "text": [
      "2000.001531745986\n"
     ]
    }
   ],
   "source": [
    "#Exercice 7\n",
    "\n",
    "def limite(epsilon):\n",
    "    u0 = 2\n",
    "    un = u0 + 2/u0\n",
    "    while abs(un-u0) > epsilon:\n",
    "        u0 = un\n",
    "        un = u0 + 2/u0\n",
    "    return un\n",
    "\n",
    "print(limite(0.001))"
   ]
  }
 ],
 "metadata": {
  "kernelspec": {
   "display_name": "Python 3",
   "language": "python",
   "name": "python3"
  },
  "language_info": {
   "codemirror_mode": {
    "name": "ipython",
    "version": 3
   },
   "file_extension": ".py",
   "mimetype": "text/x-python",
   "name": "python",
   "nbconvert_exporter": "python",
   "pygments_lexer": "ipython3",
   "version": "3.7.6"
  }
 },
 "nbformat": 4,
 "nbformat_minor": 4
}
